{
  "nbformat": 4,
  "nbformat_minor": 0,
  "metadata": {
    "colab": {
      "provenance": []
    },
    "kernelspec": {
      "name": "python3",
      "display_name": "Python 3"
    },
    "language_info": {
      "name": "python"
    }
  },
  "cells": [
    {
      "cell_type": "markdown",
      "source": [
        "# **NUMBER AND MORE**\n",
        "    1.) Types of Numbers in Python\n",
        "    2.) Basic Arithmetic\n",
        "    3.) Differences between classic division and floor division\n",
        "    4.) Object Assignment in Python"
      ],
      "metadata": {
        "id": "M-1vBL4myZ04"
      }
    },
    {
      "cell_type": "markdown",
      "source": [
        "# **TYPE**\n",
        "```\n",
        "integers and floating.\n",
        "\n",
        "Integers are just whole numbers, positive or negative.\n",
        "Floating have a decimal point\n",
        "```"
      ],
      "metadata": {
        "id": "N_wph2TmyNS-"
      }
    },
    {
      "cell_type": "markdown",
      "source": [
        "<table>\n",
        "<tr>\n",
        "    <th>NUMBER</th>\n",
        "    <th>TYPE</th>\n",
        "</tr>\n",
        "\n",
        "<tr>\n",
        "    <td>1,2,-5,100</td>\n",
        "    <td>INTEGER</td>\n",
        "</tr>\n",
        "\n",
        "<tr>\n",
        "    <td>1.2,-0.5,2e2,3E2</td>\n",
        "    <td>FLOAT</td>\n",
        "</tr>\n",
        " </table>\n"
      ],
      "metadata": {
        "id": "Frew5D5zy9mv"
      }
    },
    {
      "cell_type": "markdown",
      "source": [
        "# **PRECEDENCE**\n",
        "**Python Operators Precedence Rule - PEMDAS**\n",
        "```\n",
        "P – Parentheses.\n",
        "E – Exponentiation.\n",
        "M – Multiplication.\n",
        "D – Division.\n",
        "A – Addition.\n",
        "S – Subtraction.\n",
        "```"
      ],
      "metadata": {
        "id": "L-IoWI9w1F0Y"
      }
    },
    {
      "cell_type": "code",
      "source": [
        "2 + 10 * 10 + 3 # followed pemdas"
      ],
      "metadata": {
        "colab": {
          "base_uri": "https://localhost:8080/"
        },
        "id": "QJZ8Dh-o1x_4",
        "outputId": "8c88950d-8a2f-4e84-845b-28ea913b7148"
      },
      "execution_count": 4,
      "outputs": [
        {
          "output_type": "execute_result",
          "data": {
            "text/plain": [
              "105"
            ]
          },
          "metadata": {},
          "execution_count": 4
        }
      ]
    },
    {
      "cell_type": "code",
      "source": [
        "(2+150) * (155-3) / 4"
      ],
      "metadata": {
        "colab": {
          "base_uri": "https://localhost:8080/"
        },
        "id": "x_QClfvb19av",
        "outputId": "ecf98f2a-e07b-4cba-b659-ea96d1a508a7"
      },
      "execution_count": 8,
      "outputs": [
        {
          "output_type": "execute_result",
          "data": {
            "text/plain": [
              "5776.0"
            ]
          },
          "metadata": {},
          "execution_count": 8
        }
      ]
    },
    {
      "cell_type": "markdown",
      "source": [
        "# **NUMBER ARITHMATIC**"
      ],
      "metadata": {
        "id": "p4DNAxxDyFly"
      }
    },
    {
      "cell_type": "code",
      "source": [
        "10**2  # power of 2"
      ],
      "metadata": {
        "colab": {
          "base_uri": "https://localhost:8080/"
        },
        "id": "H52PQNA5zA8t",
        "outputId": "a80921a8-d5d2-4673-9191-1824cabed88a"
      },
      "execution_count": null,
      "outputs": [
        {
          "output_type": "execute_result",
          "data": {
            "text/plain": [
              "100"
            ]
          },
          "metadata": {},
          "execution_count": 15
        }
      ]
    },
    {
      "cell_type": "code",
      "source": [
        "85*10  # multiplication"
      ],
      "metadata": {
        "colab": {
          "base_uri": "https://localhost:8080/"
        },
        "id": "Qh6GunjAyXep",
        "outputId": "bd0ed4d8-60eb-498b-e80c-7f17000113f8"
      },
      "execution_count": null,
      "outputs": [
        {
          "output_type": "execute_result",
          "data": {
            "text/plain": [
              "850"
            ]
          },
          "metadata": {},
          "execution_count": 14
        }
      ]
    },
    {
      "cell_type": "code",
      "source": [
        "100/3  # division"
      ],
      "metadata": {
        "colab": {
          "base_uri": "https://localhost:8080/"
        },
        "id": "6_Q6PftByd_8",
        "outputId": "6bc5455b-41da-47ff-ee04-02c088da52bd"
      },
      "execution_count": null,
      "outputs": [
        {
          "output_type": "execute_result",
          "data": {
            "text/plain": [
              "33.333333333333336"
            ]
          },
          "metadata": {},
          "execution_count": 8
        }
      ]
    },
    {
      "cell_type": "code",
      "source": [
        "100//3 # floor devision"
      ],
      "metadata": {
        "colab": {
          "base_uri": "https://localhost:8080/"
        },
        "id": "doDowAD8y4zu",
        "outputId": "536f1173-6fed-4420-95cc-f4ca85dd51c7"
      },
      "execution_count": null,
      "outputs": [
        {
          "output_type": "execute_result",
          "data": {
            "text/plain": [
              "33"
            ]
          },
          "metadata": {},
          "execution_count": 12
        }
      ]
    },
    {
      "cell_type": "code",
      "source": [
        "100/2"
      ],
      "metadata": {
        "colab": {
          "base_uri": "https://localhost:8080/"
        },
        "id": "A-Knt02jyhXR",
        "outputId": "501364be-4abf-4b47-e7d4-8fcdb815242d"
      },
      "execution_count": null,
      "outputs": [
        {
          "output_type": "execute_result",
          "data": {
            "text/plain": [
              "50.0"
            ]
          },
          "metadata": {},
          "execution_count": 10
        }
      ]
    },
    {
      "cell_type": "code",
      "source": [
        "100//2"
      ],
      "metadata": {
        "colab": {
          "base_uri": "https://localhost:8080/"
        },
        "id": "LrXa8Uzzyjup",
        "outputId": "7e263844-dd8d-422b-f179-858bb355f28c"
      },
      "execution_count": null,
      "outputs": [
        {
          "output_type": "execute_result",
          "data": {
            "text/plain": [
              "50"
            ]
          },
          "metadata": {},
          "execution_count": 11
        }
      ]
    },
    {
      "cell_type": "code",
      "source": [
        "7%4 # modulo"
      ],
      "metadata": {
        "colab": {
          "base_uri": "https://localhost:8080/"
        },
        "id": "oYIlUn6Xyq9N",
        "outputId": "ac1e121b-0adf-402b-e900-0e2a89b79e8c"
      },
      "execution_count": null,
      "outputs": [
        {
          "output_type": "execute_result",
          "data": {
            "text/plain": [
              "3"
            ]
          },
          "metadata": {},
          "execution_count": 17
        }
      ]
    },
    {
      "cell_type": "code",
      "execution_count": null,
      "metadata": {
        "colab": {
          "base_uri": "https://localhost:8080/"
        },
        "id": "v6KOu6asx95O",
        "outputId": "1b43a215-7f69-4711-c3e0-967bf8997b50"
      },
      "outputs": [
        {
          "output_type": "execute_result",
          "data": {
            "text/plain": [
              "40"
            ]
          },
          "metadata": {},
          "execution_count": 4
        }
      ],
      "source": [
        "15+25 # addition"
      ]
    },
    {
      "cell_type": "code",
      "source": [
        "15-5 # substraction"
      ],
      "metadata": {
        "colab": {
          "base_uri": "https://localhost:8080/"
        },
        "id": "rFLt7BfQ4KMC",
        "outputId": "1aaca7b8-a74b-4551-df93-eb18659fb351"
      },
      "execution_count": null,
      "outputs": [
        {
          "output_type": "execute_result",
          "data": {
            "text/plain": [
              "10"
            ]
          },
          "metadata": {},
          "execution_count": 16
        }
      ]
    }
  ]
}