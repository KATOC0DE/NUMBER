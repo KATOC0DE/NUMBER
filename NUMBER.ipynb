{
 "cells": [
  {
   "cell_type": "markdown",
   "id": "f4db78c0",
   "metadata": {},
   "source": [
    "# NUMBER"
   ]
  },
  {
   "cell_type": "code",
   "execution_count": 29,
   "id": "16e2ebe9",
   "metadata": {},
   "outputs": [
    {
     "name": "stdout",
     "output_type": "stream",
     "text": [
      "<class 'float'>\n",
      "<class 'float'>\n",
      "<class 'float'>\n",
      "<class 'complex'>\n",
      "<class 'complex'>\n",
      "<class 'complex'>\n"
     ]
    }
   ],
   "source": [
    "# Int\n",
    "x = 1\n",
    "y = 35656222554887711\n",
    "z = -3255522\n",
    "\n",
    "# Float\n",
    "x = 1.10\n",
    "y = 1.0\n",
    "z = -35.59\n",
    "\n",
    "x1 = 35e3\n",
    "y1 = 12E4\n",
    "z1 = -87.7e100\n",
    "\n",
    "# Complex\n",
    "x = 3+5j\n",
    "y = 5j\n",
    "z = -5j\n",
    "\n",
    "\n",
    "print(type(x1))\n",
    "print(type(y1))\n",
    "print(type(z1))\n",
    "print(type(x))\n",
    "print(type(y))\n",
    "print(type(z))"
   ]
  },
  {
   "cell_type": "code",
   "execution_count": 14,
   "id": "b08d8eb8",
   "metadata": {},
   "outputs": [
    {
     "name": "stdout",
     "output_type": "stream",
     "text": [
      "Addition: (4-2j)\n",
      "Subtraction: (2+6j)\n",
      "Multiplication: (11-10j)\n",
      "Division: (-0.29411764705882354+0.8235294117647058j)\n"
     ]
    }
   ],
   "source": [
    "# Define the complex numbers\n",
    "z1 = 3 + 2j\n",
    "z2 = 1 - 4j\n",
    "\n",
    "# Addition\n",
    "result_add = z1 + z2\n",
    "print(\"Addition:\", result_add)\n",
    "\n",
    "# Subtraction\n",
    "result_sub = z1 - z2\n",
    "print(\"Subtraction:\", result_sub)\n",
    "\n",
    "# Multiplication\n",
    "result_mul = z1 * z2\n",
    "print(\"Multiplication:\", result_mul)\n",
    "\n",
    "# Division\n",
    "result_div = z1 / z2\n",
    "print(\"Division:\", result_div)"
   ]
  },
  {
   "cell_type": "markdown",
   "id": "22b4d766",
   "metadata": {},
   "source": [
    "# PRECEDENCE\n",
    "```\n",
    "+------------------------------------------------------------------------------+\n",
    "|  ()\t             Parentheses\t                                       |\n",
    "|  **\t             Exponentiation\t                                       |\n",
    "|  +x  -x  ~x\t     Unary plus, unary minus, and bitwise NOT\t               |\n",
    "|  *  /  //  %       Multiplication, division, floor division, and modulus     |\n",
    "|  +  -\t             Addition and subtraction                                  |\n",
    "+------------------------------------------------------------------------------+ \n",
    "```"
   ]
  },
  {
   "cell_type": "code",
   "execution_count": 28,
   "id": "528544e7",
   "metadata": {},
   "outputs": [
    {
     "data": {
      "text/plain": [
       "5000.0"
      ]
     },
     "execution_count": 28,
     "metadata": {},
     "output_type": "execute_result"
    }
   ],
   "source": [
    "100**2/2"
   ]
  },
  {
   "cell_type": "code",
   "execution_count": 21,
   "id": "abd84cd1",
   "metadata": {},
   "outputs": [
    {
     "data": {
      "text/plain": [
       "333"
      ]
     },
     "execution_count": 21,
     "metadata": {},
     "output_type": "execute_result"
    }
   ],
   "source": [
    "250*4//3"
   ]
  },
  {
   "cell_type": "code",
   "execution_count": 22,
   "id": "3d5003d0",
   "metadata": {},
   "outputs": [
    {
     "data": {
      "text/plain": [
       "262"
      ]
     },
     "execution_count": 22,
     "metadata": {},
     "output_type": "execute_result"
    }
   ],
   "source": [
    "525//2"
   ]
  },
  {
   "cell_type": "code",
   "execution_count": 23,
   "id": "29d9499d",
   "metadata": {},
   "outputs": [
    {
     "data": {
      "text/plain": [
       "262.5"
      ]
     },
     "execution_count": 23,
     "metadata": {},
     "output_type": "execute_result"
    }
   ],
   "source": [
    "525/2"
   ]
  },
  {
   "cell_type": "code",
   "execution_count": 27,
   "id": "f7ade170",
   "metadata": {},
   "outputs": [
    {
     "data": {
      "text/plain": [
       "2"
      ]
     },
     "execution_count": 27,
     "metadata": {},
     "output_type": "execute_result"
    }
   ],
   "source": [
    "524%3"
   ]
  },
  {
   "cell_type": "code",
   "execution_count": 13,
   "id": "53c068a2",
   "metadata": {},
   "outputs": [
    {
     "data": {
      "text/plain": [
       "-412419"
      ]
     },
     "execution_count": 13,
     "metadata": {},
     "output_type": "execute_result"
    }
   ],
   "source": [
    "145546+6881-564846"
   ]
  }
 ],
 "metadata": {
  "kernelspec": {
   "display_name": "Python 3 (ipykernel)",
   "language": "python",
   "name": "python3"
  },
  "language_info": {
   "codemirror_mode": {
    "name": "ipython",
    "version": 3
   },
   "file_extension": ".py",
   "mimetype": "text/x-python",
   "name": "python",
   "nbconvert_exporter": "python",
   "pygments_lexer": "ipython3",
   "version": "3.11.4"
  }
 },
 "nbformat": 4,
 "nbformat_minor": 5
}
